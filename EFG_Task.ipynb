{
  "nbformat": 4,
  "nbformat_minor": 0,
  "metadata": {
    "colab": {
      "provenance": [],
      "mount_file_id": "1Ss9Sk88cn3vP9bFUIsVX7_R41kWn_hMX",
      "authorship_tag": "ABX9TyPJEArszH1usQWo5NDgtCmr",
      "include_colab_link": true
    },
    "kernelspec": {
      "name": "python3",
      "display_name": "Python 3"
    },
    "language_info": {
      "name": "python"
    }
  },
  "cells": [
    {
      "cell_type": "markdown",
      "metadata": {
        "id": "view-in-github",
        "colab_type": "text"
      },
      "source": [
        "<a href=\"https://colab.research.google.com/github/Kareem-Zaghawa/EFG_Task/blob/main/EFG_Task.ipynb\" target=\"_parent\"><img src=\"https://colab.research.google.com/assets/colab-badge.svg\" alt=\"Open In Colab\"/></a>"
      ]
    },
    {
      "cell_type": "code",
      "source": [
        "import cv2\n",
        "import numpy as np\n",
        "import os\n",
        "\n",
        "def remove_logo(image_path, logo_path, output_path):\n",
        "\n",
        "    main_image = cv2.imread(image_path)\n",
        "    logo_image = cv2.imread(logo_path)\n",
        "\n",
        "    # Convert images to grayscale becasue SIFT detects key points based\n",
        "    # on intensity changes in the image. Changes in greyscale are easier to capture than across RGB\n",
        "    # Also less computationally expensive.\n",
        "\n",
        "    gray_main_image = cv2.cvtColor(main_image, cv2.COLOR_BGR2GRAY)\n",
        "    gray_logo_image = cv2.cvtColor(logo_image, cv2.COLOR_BGR2GRAY)\n",
        "\n",
        "    sift = cv2.SIFT_create()\n",
        "\n",
        "    # Keypoints are certain points on the image that are distinct and can be reliably detected and matched across different images.\n",
        "    # In our case the key points we want to get is the logo and match them with the keypoints of logo in the ID image.\n",
        "    #\n",
        "    # Descriptors are vectors that describe the region around keypoints which will be used to detect matches between the logo and the image.\n",
        "    kp1, des1 = sift.detectAndCompute(gray_logo_image, None)\n",
        "    kp2, des2 = sift.detectAndCompute(gray_main_image, None)\n",
        "\n",
        "    # Match descriptors using FLANN-based matcher\n",
        "    FLANN_INDEX_KDTREE = 1\n",
        "    index_params = dict(algorithm=FLANN_INDEX_KDTREE, trees=5)\n",
        "    search_params = dict(checks=50)\n",
        "    flann = cv2.FlannBasedMatcher(index_params, search_params)\n",
        "    matches = flann.knnMatch(des1, des2, k=2)\n",
        "\n",
        "    # Store good matches using Lowe's ratio test. The ideal ratio is from 0.5 to 0.9.\n",
        "    good_matches = []\n",
        "    for m, n in matches:\n",
        "        if m.distance < 0.7 * n.distance:\n",
        "            good_matches.append(m)\n",
        "\n",
        "    MIN_MATCH_COUNT = 10\n",
        "    if len(good_matches) > MIN_MATCH_COUNT:\n",
        "        src_pts = np.float32([kp1[m.queryIdx].pt for m in good_matches]).reshape(-1, 2)\n",
        "        dst_pts = np.float32([kp2[m.trainIdx].pt for m in good_matches]).reshape(-1, 2)\n",
        "\n",
        "        # Homography is a transformation that maps points from one plane to another.\n",
        "        # In our case, mapping the corners of the logo image to their coressponfing poistion in the ID image.\n",
        "        M, mask = cv2.findHomography(src_pts, dst_pts, cv2.RANSAC, 5.0)\n",
        "        matches_mask = mask.ravel().tolist()\n",
        "\n",
        "        h, w, _ = logo_image.shape\n",
        "\n",
        "        pts = np.float32([[0, 0], [0, h - 1], [w - 1, h - 1], [w - 1, 0]]).reshape(-1, 1, 2)\n",
        "\n",
        "        dst = cv2.perspectiveTransform(pts, M)\n",
        "\n",
        "        # Draw the bounding box\n",
        "        dst = np.int32(dst)\n",
        "        rect = cv2.boundingRect(dst)\n",
        "        x, y, w, h = rect\n",
        "\n",
        "\n",
        "        # Calculate the average color of the 4 vertices of the bounding box to draw a rectange of the same color on the logo\n",
        "        vertices = dst.reshape(-1, 2)\n",
        "        average_color = np.mean([main_image[int(vertex[1]), int(vertex[0])] for vertex in vertices], axis=0)\n",
        "\n",
        "        cv2.rectangle(main_image, (x, y), (x + w, y + h), average_color.tolist(), -1)\n",
        "\n",
        "        cv2.imwrite(output_path, main_image)\n",
        "    else:\n",
        "        print(f\"Not enough matches are found - {len(good_matches)}/{MIN_MATCH_COUNT}\")\n",
        "        matches_mask = None\n",
        "\n",
        "# Usage\n",
        "#main_image_path = '/content/Input/9.jpg'\n",
        "logo_image_path = '/content/Logos/LOGO3.jpg'\n",
        "#output_image_path = '/content/Output/2_with_bounding_box.jpg'\n",
        "#detect_and_hide_logo(main_image_path, logo_image_path, output_image_path)\n"
      ],
      "metadata": {
        "id": "H-28AfI_c9dE"
      },
      "execution_count": 3,
      "outputs": []
    },
    {
      "cell_type": "code",
      "source": [
        "output_directory = '/content/output'\n",
        "os.makedirs(output_directory, exist_ok=True)\n",
        "\n",
        "input_directory = '/content/Input'\n",
        "\n",
        "# Loop over all files in the input directory\n",
        "for filename in os.listdir(input_directory):\n",
        "    if filename.endswith('.jpg'):\n",
        "        target_image_path = os.path.join(input_directory, filename)\n",
        "        output_image_path = os.path.join(output_directory,f'{os.path.splitext(filename)[0] }_with_bounding_box.jpg')\n",
        "        remove_logo(target_image_path,logo_image_path,output_image_path)"
      ],
      "metadata": {
        "id": "LuZbg6RwdlJX"
      },
      "execution_count": 5,
      "outputs": []
    },
    {
      "cell_type": "code",
      "source": [],
      "metadata": {
        "id": "jIvTd7aGilpw"
      },
      "execution_count": null,
      "outputs": []
    },
    {
      "cell_type": "code",
      "source": [],
      "metadata": {
        "id": "GRIw9WRnh5sN"
      },
      "execution_count": null,
      "outputs": []
    }
  ]
}